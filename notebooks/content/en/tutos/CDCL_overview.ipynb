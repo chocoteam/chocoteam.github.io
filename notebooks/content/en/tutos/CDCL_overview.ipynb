{
 "cells": [
  {
   "cell_type": "markdown",
   "metadata": {},
   "source": [
    "---\n",
    "title: \"A CD-CL overview\"\n",
    "date: 2023-06-30\n",
    "type: docs\n",
    "math: \"true\"\n",
    "weight: 90\n",
    "description: >\n",
    "  a quick look a the Conflict-Driven Clause learning (CDCL) framework.\n",
    "---"
   ]
  },
  {
   "cell_type": "markdown",
   "metadata": {},
   "source": [
    "_This file can be downloaded as a [jupyter notebook](https://jupyter.org/) and executed with a [Java kernel](https://github.com/SpencerPark/IJava). The next cell is then used to add the dependency to choco and can be ignored otherwise._ \n",
    "\n",
    "[>> ipynb <<](</notebooks/content/en/tutos/CDCL_overview.ipynb>)"
   ]
  },
  {
   "cell_type": "code",
   "execution_count": 1,
   "metadata": {},
   "outputs": [],
   "source": [
    "// Add maven dependencies at runtime \n",
    "%maven org.choco-solver:choco-solver:4.10.13"
   ]
  },
  {
   "cell_type": "markdown",
   "metadata": {},
   "source": [
    "----\n",
    "\n",
    "The CD-CL framework is an adapation of the well-konw SAT [CDCL algorithm](https://en.wikipedia.org/wiki/Conflict-driven_clause_learning) to discrete constraint solver.\n",
    "By exploiting the implication graph (that records events, i.e. variables' modifications), this algorithm is able to derive a new constraint from the events that led to a contradiction. \n",
    "\n",
    "Once added to the constraint network, this constraint makes possible to \"backjump\" (non-chronological backtrack) to the appropriate decision in the decision path.\n",
    "\n",
    "In CP, learned constraints are denoted \"signed-clauses\" which is a disjunction of signed-literals, *i.e.* membership unary constraints : $\\bigvee_{i = 0}^{n} X_i \\in D_{i}$ where $X_i$ are variables and $D_i$ a set of values.\n",
    "A signed-clause is satisfied when at least one signed-literal is satisfied. \n",
    "\n",
    "#### Warning #### \n",
    "\n",
    "> In CP, CDCL algorithm requires that each constraint of a problem can be explained. Even though a default explanation function for any constraint, dedicated functions offers better performances. \n",
    "> In `choco-solver` a few set of constraints is equiped with dedicated explanation function (unary constraints, binary and ternary, sum and scalar). \n",
    "\n",
    "\n",
    "### RCPSP\n",
    "The Resource-Constrained Project Scheduling Problem (RCPSP) is a well-known optimization problem in project management. It involves scheduling a set of activities or tasks, each with a specific duration and resource requirements, while considering limited resources availability.\n",
    "\n",
    "In RCPSP, the goal is to find an optimal or near-optimal schedule that minimizes the project's duration or cost, while respecting resource constraints. These constraints typically include limitations on the availability of resources such as workers, machines, or materials. Activities cannot be scheduled simultaneously if they require the same resource, and the overall schedule must ensure that resource capacities are not exceeded at any given time.\n",
    "\n",
    "The problem becomes more complex when considering dependencies between activities, where some activities must be completed before others can start. The objective is to create a feasible schedule that meets all constraints and completes the project as quickly and efficiently as possible.\n",
    "\n",
    "Here is an instance for 30 activities.\n",
    "Note that two dummy activities are added, a source (1) and a sink (32), for successors declaration.\n",
    "Neither of them consumes any resources."
   ]
  },
  {
   "cell_type": "code",
   "execution_count": 2,
   "metadata": {},
   "outputs": [],
   "source": [
    "// Set up the problem data\n",
    "int numActivities = 32;  // Number of activities, including source (1) and sink (32)\n",
    "int numResources = 4;  // Number of resources\n",
    "int[] resourceCapacities = new int[]{10, 12, 4, 12};  // Resource capacities\n",
    "int[][] successors = new int[][]{\n",
    "        {2, 3, 4},\n",
    "        {6, 11, 15},\n",
    "        {7, 8, 13},\n",
    "        {5, 9, 10},\n",
    "        {20},\n",
    "        {30},\n",
    "        {27},\n",
    "        {12, 19, 27},\n",
    "        {14},\n",
    "        {16, 25},\n",
    "        {20, 26},\n",
    "        {14},\n",
    "        {17, 18},\n",
    "        {17},\n",
    "        {25},\n",
    "        {21, 22},\n",
    "        {22},\n",
    "        {20, 22},\n",
    "        {24, 29},\n",
    "        {23, 25},\n",
    "        {28},\n",
    "        {23},\n",
    "        {24},\n",
    "        {30},\n",
    "        {30},\n",
    "        {31},\n",
    "        {28},\n",
    "        {31},\n",
    "        {32},\n",
    "        {32},\n",
    "        {32},\n",
    "        {},\n",
    "};\n",
    "\n",
    "int[] durations = {0, 8, 4, 6, 3, 8, 5, 9, 2, 7, 9, 2, 6, 3, 9, 10, 6, 5, 3, 7, 2, 7, 2, 3, 3, 7, 8, 3, 7, 2, 2, 0};\n",
    "\n",
    "int[][] requirements = new int[][]{\n",
    "        {0, 0, 0, 0},\n",
    "        {4, 0, 0, 0},\n",
    "        {10, 0, 0, 0},\n",
    "        {0, 0, 0, 3},\n",
    "        {3, 0, 0, 0},\n",
    "        {0, 0, 0, 8},\n",
    "        {4, 0, 0, 0},\n",
    "        {0, 1, 0, 0},\n",
    "        {6, 0, 0, 0},\n",
    "        {0, 0, 0, 1},\n",
    "        {0, 5, 0, 0},\n",
    "        {0, 7, 0, 0},\n",
    "        {4, 0, 0, 0},\n",
    "        {0, 8, 0, 0},\n",
    "        {3, 0, 0, 0},\n",
    "        {0, 0, 0, 5},\n",
    "        {0, 0, 0, 8},\n",
    "        {0, 0, 0, 7},\n",
    "        {0, 1, 0, 0},\n",
    "        {0, 10, 0, 0},\n",
    "        {0, 0, 0, 6},\n",
    "        {2, 0, 0, 0},\n",
    "        {3, 0, 0, 0},\n",
    "        {0, 9, 0, 0},\n",
    "        {4, 0, 0, 0},\n",
    "        {0, 0, 4, 0},\n",
    "        {0, 0, 0, 7},\n",
    "        {0, 8, 0, 0},\n",
    "        {0, 7, 0, 0},\n",
    "        {0, 7, 0, 0},\n",
    "        {0, 0, 2, 0},\n",
    "        {0, 0, 0, 0},\n",
    "};"
   ]
  },
  {
   "cell_type": "code",
   "execution_count": 3,
   "metadata": {},
   "outputs": [],
   "source": [
    "import org.chocosolver.solver.Model;\n",
    "import org.chocosolver.solver.Solver;\n",
    "import org.chocosolver.solver.constraints.nary.cumulative.Cumulative;\n",
    "import org.chocosolver.solver.search.strategy.Search;\n",
    "import org.chocosolver.solver.variables.IntVar;\n",
    "import org.chocosolver.solver.variables.Task;\n",
    "\n",
    "import java.util.ArrayList;\n",
    "import java.util.List;\n",
    "import java.util.stream.IntStream;\n",
    "\n",
    "public Model rcpsp() {\n",
    "   // Create the Choco model\n",
    "   Model model = new Model(\"RCPSP\");\n",
    "   // Create the start time variables for each activity\n",
    "   IntVar[] starts = model.intVarArray(\"S\", numActivities, 0, 999);\n",
    "   Task[] tasks = IntStream.range(0, numActivities) \n",
    "           .mapToObj(i -> new Task(starts[i], durations[i])) \n",
    "           .toArray(Task[]::new);\n",
    "   \n",
    "   // Add capacity constraints\n",
    "   for (int r = 0; r < numResources; r++) {\n",
    "       List<Task> cTasks = new ArrayList<>();\n",
    "       List<IntVar> cHeights = new ArrayList<>();\n",
    "       for (int i = 0; i < numActivities; i++) {\n",
    "           if (requirements[i][r] > 0) {\n",
    "               cTasks.add(tasks[i]);\n",
    "               cHeights.add(model.intVar(requirements[i][r]));\n",
    "           }\n",
    "       }\n",
    "       model.cumulative(cTasks.toArray(new Task[0]),\n",
    "               cHeights.toArray(new IntVar[0]),\n",
    "               model.intVar(resourceCapacities[r]), \n",
    "               true, \n",
    "               Cumulative.Filter.NAIVETIME\n",
    "       ).post();\n",
    "   }\n",
    "     \n",
    "   // Add precedency constraints\n",
    "   for (int i = 0; i < numActivities; i++) {\n",
    "       for (int j : successors[i]) {\n",
    "           tasks[i].getEnd().le(tasks[j - 1].getStart()).post();\n",
    "       }\n",
    "   }\n",
    "     \n",
    "   // Define the objective function\n",
    "   IntVar makespan = model.intVar(0, IntVar.MAX_INT_BOUND);\n",
    "   model.max(makespan, starts).post();\n",
    "   // Set the objective\n",
    "   model.setObjective(Model.MINIMIZE, makespan);\n",
    "     \n",
    "   // Create the solver\n",
    "   Solver solver = model.getSolver();\n",
    "   solver.setSearch(Search.inputOrderLBSearch(starts));\n",
    "   solver.showShortStatistics();\n",
    "   return model;\n",
    "}"
   ]
  },
  {
   "cell_type": "markdown",
   "metadata": {},
   "source": [
    "#### Without CDCL\n",
    "\n",
    "Finding the optimal solution to this instance of the RCPSP requires 285653 nodes:"
   ]
  },
  {
   "cell_type": "code",
   "execution_count": 4,
   "metadata": {},
   "outputs": [
    {
     "name": "stdout",
     "output_type": "stream",
     "text": [
      "Model[RCPSP], 1 Solutions, MINIMIZE IV_1 = 49, Resolution time 0,020s, Time to best solution 0,018s, 33 Nodes (1 671,6 n/s), 0 Backtracks, 0 Backjumps, 0 Fails, 0 Restarts\n",
      "\u001b[0mModel[RCPSP], 2 Solutions, MINIMIZE IV_1 = 47, Resolution time 3,375s, Time to best solution 3,375s, 256956 Nodes (76 129,8 n/s), 513826 Backtracks, 0 Backjumps, 256927 Fails, 0 Restarts\n",
      "\u001b[0mModel[RCPSP], 3 Solutions, MINIMIZE IV_1 = 46, Resolution time 3,378s, Time to best solution 3,377s, 256977 Nodes (76 082,1 n/s), 513903 Backtracks, 0 Backjumps, 256955 Fails, 0 Restarts\n",
      "\u001b[0mModel[RCPSP], 4 Solutions, MINIMIZE IV_1 = 45, Resolution time 3,548s, Time to best solution 3,548s, 285620 Nodes (80 499,4 n/s), 571178 Backtracks, 0 Backjumps, 285594 Fails, 0 Restarts\n",
      "\u001b[0mModel[RCPSP], 5 Solutions, MINIMIZE IV_1 = 44, Resolution time 3,550s, Time to best solution 3,550s, 285637 Nodes (80 457,0 n/s), 571220 Backtracks, 0 Backjumps, 285612 Fails, 0 Restarts\n",
      "\u001b[0mModel[RCPSP], 6 Solutions, MINIMIZE IV_1 = 43, Resolution time 3,552s, Time to best solution 3,552s, 285653 Nodes (80 427,2 n/s), 571251 Backtracks, 0 Backjumps, 285627 Fails, 0 Restarts\n",
      "\u001b[0mModel[RCPSP], 6 Solutions, MINIMIZE IV_1 = 43, Resolution time 3,554s, Time to best solution 3,552s, 285653 Nodes (80 382,1 n/s), 571295 Backtracks, 0 Backjumps, 285642 Fails, 0 Restarts\n",
      "\u001b[0m"
     ]
    }
   ],
   "source": [
    "Model model = rcpsp();\n",
    "while(model.getSolver().solve());"
   ]
  },
  {
   "cell_type": "markdown",
   "metadata": {},
   "source": [
    "#### With CDCL\n",
    "Using CDCL, the same solution can be found in only 186 nodes only:"
   ]
  },
  {
   "cell_type": "code",
   "execution_count": 5,
   "metadata": {},
   "outputs": [
    {
     "name": "stdout",
     "output_type": "stream",
     "text": [
      "Model[RCPSP], 1 Solutions, MINIMIZE IV_1 = 49, Resolution time 0,007s, Time to best solution 0,006s, 33 Nodes (4 968,7 n/s), 0 Backtracks, 0 Backjumps, 0 Fails, 0 Restarts\n",
      "\u001b[0mModel[RCPSP], 2 Solutions, MINIMIZE IV_1 = 47, Resolution time 0,057s, Time to best solution 0,057s, 112 Nodes (1 948,1 n/s), 100 Backtracks, 9 Backjumps, 28 Fails, 0 Restarts\n",
      "\u001b[0mModel[RCPSP], 3 Solutions, MINIMIZE IV_1 = 46, Resolution time 0,068s, Time to best solution 0,067s, 131 Nodes (1 939,1 n/s), 151 Backtracks, 14 Backjumps, 32 Fails, 0 Restarts\n",
      "\u001b[0mModel[RCPSP], 4 Solutions, MINIMIZE IV_1 = 45, Resolution time 0,072s, Time to best solution 0,072s, 156 Nodes (2 161,3 n/s), 178 Backtracks, 16 Backjumps, 33 Fails, 0 Restarts\n",
      "\u001b[0mModel[RCPSP], 5 Solutions, MINIMIZE IV_1 = 44, Resolution time 0,075s, Time to best solution 0,075s, 172 Nodes (2 294,5 n/s), 197 Backtracks, 17 Backjumps, 35 Fails, 0 Restarts\n",
      "\u001b[0mModel[RCPSP], 6 Solutions, MINIMIZE IV_1 = 43, Resolution time 0,079s, Time to best solution 0,078s, 186 Nodes (2 367,2 n/s), 214 Backtracks, 19 Backjumps, 36 Fails, 0 Restarts\n",
      "\u001b[0mModel[RCPSP], 6 Solutions, MINIMIZE IV_1 = 43, Resolution time 0,080s, Time to best solution 0,078s, 186 Nodes (2 313,4 n/s), 236 Backtracks, 20 Backjumps, 36 Fails, 0 Restarts\n",
      "\u001b[0m"
     ]
    }
   ],
   "source": [
    "Model model = rcpsp();\n",
    "model.getSolver().setLearningSignedClauses();\n",
    "while(model.getSolver().solve());"
   ]
  },
  {
   "cell_type": "markdown",
   "metadata": {},
   "source": [
    "Indeed, each of the 36 failures is derived into a new signed-clause which helps reducing the search space.\n",
    "Since the enumeration strategy is static, so the 2nd search space is ensured to be strictly included in the 1st one. \n",
    "\n",
    "#### Remark ####\n",
    "> The model can be improved by using stronger filtering algorithms than `Cumulative.Filter.NAIVETIME` for the CUMULATIVE constraint. But, the current implementation of the CDCL framework in choco does not support them.\n"
   ]
  },
  {
   "cell_type": "markdown",
   "metadata": {},
   "source": [
    "## Limitations ##\n",
    "\n",
    "One may noticed that, in comparison to the no-CDCL approach, very few nodes can be explored per second.\n",
    "This is due to the application of the CDCL algorithm which globally slows down the resolution process.\n",
    "Indeed:\n",
    "1. Events need to be recorded in the implication graph.\n",
    "2. New operations are executed on each conflict to derive a signed-clauses. \n",
    "3. The number of learned signed-clauses increases w.r.t. the number of conflict, this can slow down the propagation step (reaching a fix-point or detecting a new conflict).\n",
    "\n",
    "The last point is probably the most expensive one. That's why, from time to time, some learned clauses need to be forgotten (in `DefaultSettings`: every 100000 failures, half of them are removed under conditions).\n",
    "Beware, removing a learned sign may not be inconsequential.\n",
    "For example, the \"same\" contradiction can thrown again in the future, or the enumeration strategy may be impacted.\n",
    "\n",
    "In conclusion, CDCL can be very powerful in reducing search space. \n",
    "However, this reduction sometimes does not compensate the algorithm cost it comes with."
   ]
  }
 ],
 "metadata": {
  "kernelspec": {
   "display_name": "Java",
   "language": "java",
   "name": "java"
  },
  "language_info": {
   "codemirror_mode": "java",
   "file_extension": ".jshell",
   "mimetype": "text/x-java-source",
   "name": "Java",
   "pygments_lexer": "java",
   "version": "11.0.1+13-LTS"
  },
  "widgets": {
   "application/vnd.jupyter.widget-state+json": {
    "state": {},
    "version_major": 2,
    "version_minor": 0
   }
  }
 },
 "nbformat": 4,
 "nbformat_minor": 2
}
