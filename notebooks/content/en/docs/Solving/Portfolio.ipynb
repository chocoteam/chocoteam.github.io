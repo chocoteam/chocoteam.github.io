{
 "cells": [
  {
   "cell_type": "markdown",
   "id": "6527ec39",
   "metadata": {},
   "source": [
    "---\n",
    "title: \"Multi-thread resolution\"\n",
    "date: 2020-03-06T15:39:27+01:00\n",
    "weight: 36\n",
    "description: >\n",
    "  How to use several threads to solve a problem?\n",
    "---"
   ]
  },
  {
   "cell_type": "markdown",
   "id": "118f991e",
   "metadata": {},
   "source": [
    "_This file can be downloaded as a [jupyter notebook](https://jupyter.org/) and executed with a [Java kernel](https://github.com/SpencerPark/IJava). The next cell is then used to add the dependency to choco and can be ignored otherwise._ \n",
    "\n",
    "[>> ipynb <<](</notebooks/content/en/docs/Solving/Portfolio.ipynb>)"
   ]
  },
  {
   "cell_type": "code",
   "execution_count": 1,
   "id": "17fb4e7b",
   "metadata": {},
   "outputs": [],
   "source": [
    "// Add maven dependencies at runtime \n",
    "%maven org.choco-solver:choco-solver:4.10.13"
   ]
  },
  {
   "cell_type": "markdown",
   "id": "4ba03dca",
   "metadata": {},
   "source": [
    "-----\n",
    "Choco 4 provides a simple way to use several threads to treat a problem. The main idea of that driver is to solve the *same* model with different search strategies and to share few information to make these threads help each others.\n",
    "\n",
    "To use a portfolio of solvers in parallel, use `ParallelPortfolio` as follows:"
   ]
  },
  {
   "cell_type": "code",
   "execution_count": 2,
   "id": "af020212",
   "metadata": {},
   "outputs": [],
   "source": [
    "import org.chocosolver.solver.ParallelPortfolio;\n",
    "\n",
    "ParallelPortfolio portfolio = new ParallelPortfolio();"
   ]
  },
  {
   "cell_type": "markdown",
   "id": "51cd5e66",
   "metadata": {},
   "source": [
    "The instance of `ParallelPortfolio` is a solving manager.\n",
    "The portfolio is not concerned with how models are declared. It simply executes the resolutions of each of them in parallel and shares information as soon as one of them finds a solution or finishes.\n",
    "\n",
    "Once the instance has been created, the models need to be added. \n",
    "As soon as two or more models are added, we talk about parallel resolution.\n",
    "\n",
    "In the following example, we will consider first a method that create and populate a model for the Golomb ruler problem:"
   ]
  },
  {
   "cell_type": "code",
   "execution_count": 3,
   "id": "8e548975",
   "metadata": {},
   "outputs": [],
   "source": [
    "import org.chocosolver.solver.Model;\n",
    "import org.chocosolver.solver.variables.IntVar;\n",
    "\n",
    "public static Model makeModel(int id, int m) {\n",
    "    Model model = new Model(String.format(\"Golomb ruler (m=%d) #%d)\", m, id));\n",
    "    IntVar[] ticks = model.intVarArray(\"a\", m, 0, (m < 31) ? (1 << (m + 1)) - 1 : 9999, false);\n",
    "    model.addHook(\"ticks\", ticks);\n",
    "    IntVar[] diffs = model.intVarArray(\"d\", (m * m - m) / 2, 0, (m < 31) ? (1 << (m + 1)) - 1 : 9999, false);\n",
    "    model.addHook(\"diffs\", diffs);\n",
    "    model.arithm(ticks[0], \"=\", 0).post();\n",
    "\n",
    "    for (int i = 0; i < m - 1; i++) {\n",
    "        model.arithm(ticks[i + 1], \">\", ticks[i]).post();\n",
    "    }\n",
    "\n",
    "    for (int k = 0, i = 0; i < m - 1; i++) {\n",
    "        for (int j = i + 1; j < m; j++, k++) {\n",
    "            // d[k] is m[j]-m[i] and must be at least sum of first j-i integers\n",
    "            model.arithm(ticks[j], \"-\", ticks[i], \"=\", diffs[k]).post();\n",
    "            model.arithm(diffs[k], \">=\", (j - i) * (j - i + 1) / 2).post();\n",
    "            model.arithm(diffs[k], \"-\", ticks[m - 1], \"<=\", -((m - 1 - j + i) * (m - j + i)) / 2).post();\n",
    "            model.arithm(diffs[k], \"<=\", ticks[m - 1], \"-\", ((m - 1 - j + i) * (m - j + i)) / 2).post();\n",
    "        }\n",
    "    }\n",
    "    model.allDifferent(diffs, \"BC\").post();\n",
    "    // break symetries\n",
    "    if (m > 2) {\n",
    "        model.arithm(diffs[0], \"<\", diffs[diffs.length - 1]).post();\n",
    "    }\n",
    "    model.addHook(\"objective\", ticks[m - 1]);\n",
    "    model.setObjective(Model.MINIMIZE, ticks[m - 1]);\n",
    "    return model;\n",
    "}"
   ]
  },
  {
   "cell_type": "markdown",
   "id": "7bc00369",
   "metadata": {},
   "source": [
    "Now, multiple occurrences of the same model can be declared in the portfolio:"
   ]
  },
  {
   "cell_type": "code",
   "execution_count": 4,
   "id": "edc40879",
   "metadata": {},
   "outputs": [],
   "source": [
    "int nbModels = 5;\n",
    "for(int s=0;s<nbModels;s++){\n",
    "    portfolio.addModel(makeModel(s, 10));\n",
    "}"
   ]
  },
  {
   "cell_type": "markdown",
   "id": "207266ef",
   "metadata": {},
   "source": [
    "Here all models are the same and the portfolio will change the search heuristics of all models but the first one.\n",
    "This means that the first thread will run according to your settings whereas the others will have a different configuration."
   ]
  },
  {
   "cell_type": "markdown",
   "id": "cfadfbbf",
   "metadata": {},
   "source": [
    "Then, a call to `portfolio.solve()` will look for the first solution, whatever model you use to find it.\n",
    "The solver that found the solution first can then be consulted using the `portfolio.getBestModel()` method."
   ]
  },
  {
   "cell_type": "code",
   "execution_count": 5,
   "id": "520d9345",
   "metadata": {},
   "outputs": [
    {
     "name": "stdout",
     "output_type": "stream",
     "text": [
      "a[9] = 80\n",
      "a[9] = 75\n",
      "a[9] = 73\n",
      "a[9] = 72\n",
      "a[9] = 68\n",
      "a[9] = 67\n",
      "a[9] = 64\n",
      "a[9] = 62\n",
      "a[9] = 60\n",
      "a[9] = 55\n"
     ]
    }
   ],
   "source": [
    "int nbSols = 0;\n",
    "while (portfolio.solve()) {\n",
    "    Model finder = portfolio.getBestModel();\n",
    "    // get the solution\n",
    "    System.out.println(finder.getObjective());\n",
    "}\n",
    "portfolio.getModels().forEach(m -> m.getSolver().reset()); // to solve the models several times"
   ]
  },
  {
   "cell_type": "markdown",
   "id": "6e4d25c0",
   "metadata": {},
   "source": [
    "### Auto-configuration\n",
    "\n",
    "In order to specify yourself the configuration of each thread, you need to create the portfolio by setting the optional\n",
    "boolean argument `searchAutoConf` to false as follows:"
   ]
  },
  {
   "cell_type": "code",
   "execution_count": 6,
   "id": "ab94915e",
   "metadata": {},
   "outputs": [],
   "source": [
    "ParallelPortfolio portfolio = new ParallelPortfolio(false);"
   ]
  },
  {
   "cell_type": "markdown",
   "id": "e31623ae",
   "metadata": {},
   "source": [
    "When dealing with multi threading resolution, very few data is shared between threads:\n",
    "every time a solution has been found its value is shared among solvers. Moreover,\n",
    "when a solver ends, it communicates an interruption instruction to the others.\n",
    "This enables to explore the search space in various way, using different model settings such as search strategies\n",
    "(this should be done in the dedicated method which builds the model, though).\n",
    "\n",
    "This assumes that the models are identical. It is possible to declare different models. But in the case of COP, you need to be aware that the value of the objective variable will be broadcast to the models for each new solution, to reduce the search space.\n",
    "\n",
    "### Sharing no-goods\n",
    "\n",
    "Some of the default search strategies are based on a restart policy.\n",
    "In such case, one can allow no-goods when those threads restart."
   ]
  },
  {
   "cell_type": "code",
   "execution_count": null,
   "id": "59904af6",
   "metadata": {},
   "outputs": [],
   "source": [
    "portfolio.stealNogoodsOnRestarts();"
   ]
  },
  {
   "cell_type": "markdown",
   "id": "14074b80",
   "metadata": {},
   "source": [
    "Doing so, anytime a thread restarts, it records not only no-goods based on the search space it has explored since last restart, but also ones of other threads (restricted to those equiped with a restart policy). \n",
    "In that case, the models should all be identical: same variables and same constraints, declared in the same order.\n",
    "Indeed, the unique variables' id is used to share no-goods between models."
   ]
  }
 ],
 "metadata": {
  "kernelspec": {
   "display_name": "Java",
   "language": "java",
   "name": "java"
  },
  "language_info": {
   "codemirror_mode": "java",
   "file_extension": ".jshell",
   "mimetype": "text/x-java-source",
   "name": "Java",
   "pygments_lexer": "java",
   "version": "11.0.1+13-LTS"
  }
 },
 "nbformat": 4,
 "nbformat_minor": 5
}
