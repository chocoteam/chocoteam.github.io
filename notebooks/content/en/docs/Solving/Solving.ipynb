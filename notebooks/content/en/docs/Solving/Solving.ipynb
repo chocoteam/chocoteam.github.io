{
 "cells": [
  {
   "cell_type": "markdown",
   "id": "307bd475",
   "metadata": {},
   "source": [
    "---\n",
    "title: \"Lauching the resolution process\"\n",
    "date: 2020-01-07T16:06:55+01:00\n",
    "weight: 31\n",
    "description: >\n",
    "  How to look for solutions?\n",
    "---"
   ]
  },
  {
   "cell_type": "markdown",
   "id": "31bc9540",
   "metadata": {},
   "source": [
    "_This file can be downloaded as a [jupyter notebook](https://jupyter.org/) and executed with a [Java kernel](https://github.com/SpencerPark/IJava). The next cell is then used to add the dependency to choco and can be ignored otherwise._ \n",
    "\n",
    "[>> ipynb <<](</notebooks/content/en/docs/Solving/Solving.ipynb>)"
   ]
  },
  {
   "cell_type": "code",
   "execution_count": 1,
   "id": "c14b92c7",
   "metadata": {},
   "outputs": [],
   "source": [
    "// Add maven dependencies at runtime \n",
    "%maven org.choco-solver:choco-solver:4.10.13"
   ]
  },
  {
   "cell_type": "markdown",
   "id": "c00dd15a",
   "metadata": {},
   "source": [
    "----\n",
    "\n",
    "\n",
    "## Finding one solution\n",
    "\n",
    "A call to `solver.solve()` launches a resolution which stops on the first solution found, if any:\n",
    "\n",
    "```java\n",
    "if(solver.solve()){\n",
    "    // do something, e.g. print out variable values\n",
    "}else if(solver.hasReachedLimit()){\n",
    "    System.out.println(\"The solver could not find a solution\n",
    "                        nor prove that none exists in the given limits\");\n",
    "}else {\n",
    "    System.out.println(\"The solver has proved the problem has no solution\");\n",
    "}\n",
    "```\n",
    "\n",
    "If `solver.solve()` returns `true`, then a solution has been found and each variable is instantiated to a value.\n",
    "Otherwise, two cases must be considered:\n",
    "\n",
    "\n",
    "* A limit has been declared and reached (`solver.hasReachedLimit()` returns true).\n",
    "There may be a solution, but the solver has not been able to find it in the given limit\n",
    "or there is no solution but the solver has not been able to prove it (i.e., to close to search tree) in the given limit.\n",
    "The resolution process stops in no particular place in the search tree.\n",
    "\n",
    "\n",
    "* No limit has been declared or reached: The problem has no solution and the solver has proved it.\n",
    "\n",
    "## Enumerating all solutions\n",
    "\n",
    "You can enumerate all solutions of a problem with a simple while loop as follows:\n",
    "\n",
    "```java\n",
    "while(solver.solve()){\n",
    "    // do something, e.g. print out variable values\n",
    "}\n",
    "```\n",
    "\n",
    "After the enumeration, the solver closes the search tree and variables are no longer instantiated to a value.\n",
    "\n",
    "## Optimization\n",
    "\n",
    "In Constraint-Programming, optimization is done by computing improving solutions, until reaching an optimum.\n",
    "Therefore, it can be seen as solving multiple times the model while adding constraints on the fly to prevent the solver from computing dominated solutions.\n",
    "\n",
    "### Mono-objective optimization\n",
    "\n",
    "The optimization process is the following: anytime a solution is found, the value of the objective variable is stored and a *cut* is posted.\n",
    "The cut is an additional constraint which states that the next solution must be (strictly) better than the current one.\n",
    "To solve an optimization problem, you must specify which variable to optimize and in which direction:\n",
    "\n",
    "```java\n",
    "// to maximize X\n",
    "model.setObjective(Model.MAXIMIZE, X);\n",
    "// or model.setObjective(Model.MINIMIZE, X); to minimize X\n",
    "while(solver.solve()){\n",
    "    // an improving solution has been found\n",
    "}\n",
    "// the last solution found was optimal (if search completed)\n",
    "```\n",
    "\n",
    "You can use custom cuts by overriding the default cut behavior.\n",
    "The *cut computer* function defines how the cut should bound the objective variable.\n",
    "The input *number* is the best solution value found so far, the output *number* define the new bound.\n",
    "When maximizing (resp. minimizing) a problem, the cut limits the lower bound (resp. upper bound) of the objective variable.\n",
    "For instance, one may want to indicate that the value of the objective variable is the next solution should be\n",
    "greater than or equal to the best value + 10\n",
    "\n",
    "```java\n",
    "ObjectiveManager<IntVar, Integer> oman = solver.getObjectiveManager();\n",
    "oman.setCutComputer(n -> n - 10);\n",
    "```\n",
    "\n",
    "### Multi-objective optimization\n",
    "\n",
    "If you have multiple objective to optimize, you have several options. First, you may aggregate them in a function so that you end up with only one objective variable. Second, you can solve the problem multiple times, each one optimizing one variable and possibly fixing some bounds on the other. Third, you can enumerate solutions (without defining any objective) and add constraints on the fly to prevent search from finding dominated solutions. This is done by the ParetoOptimizer object which does the following:\n",
    "Anytime a solution is found, a constraint is posted which states that at least one of the objective variables must be strictly better:\n",
    "Such as $(X_0 < b_0 \\lor X_1 < b_1 \\lor \\ldots \\lor X_n < b_n)$ where $X_i$ is the ith objective variable and $b_i$ its value.\n",
    "\n",
    "Here is a simple example on how to use the `findParetoFront(...)` API to optimize two variables (a and b):\n"
   ]
  },
  {
   "cell_type": "code",
   "execution_count": 4,
   "id": "42361974",
   "metadata": {},
   "outputs": [
    {
     "name": "stdout",
     "output_type": "stream",
     "text": [
      "The pareto front has 3 solutions : \n",
      "a = 0 and b = 2\n",
      "a = 1 and b = 1\n",
      "a = 2 and b = 0\n"
     ]
    }
   ],
   "source": [
    "import org.chocosolver.solver.Model;\n",
    "import org.chocosolver.solver.variables.IntVar;\n",
    "import org.chocosolver.solver.Solver;\n",
    "import org.chocosolver.solver.Solution;\n",
    "\n",
    "// simple model\n",
    "Model model = new Model();\n",
    "IntVar a = model.intVar(\"a\", 0, 2, false);\n",
    "IntVar b = model.intVar(\"b\", 0, 2, false);\n",
    "IntVar c = model.intVar(\"c\", 0, 2, false);\n",
    "model.arithm(a, \"+\", b, \"=\", c).post();\n",
    "\n",
    "Solver solver = model.getSolver();\n",
    "// create an object that will store the best solutions and remove dominated ones\n",
    "List<Solution> front = solver.findParetoFront(new IntVar[]{a,b},Model.MAXIMIZE); \n",
    "System.out.println(\"The pareto front has \"+front.size()+\" solutions : \");\n",
    "for(Solution s: front){\n",
    "        System.out.println(\"a = \"+s.getIntVal(a)+\" and b = \"+s.getIntVal(b));\n",
    "}"
   ]
  },
  {
   "cell_type": "markdown",
   "id": "e4fb5036",
   "metadata": {},
   "source": [
    "**NOTE**: All objectives must be optimized on the same direction (either minimization or maximization).\n",
    "\n",
    "## Propagation\n",
    "\n",
    "One may want to propagate all constraints without search for a solution.\n",
    "This can be achieved by calling `solver.propagate()`.\n",
    "This method runs, in turn, the domain reduction algorithms of the constraints until it reaches a fix point.\n",
    "It may throw a `ContradictionException` if a contradiction occurs.\n",
    "In that case, the propagation engine must be flushed calling `solver.getEngine().flush()`\n",
    "to ensure there is no pending events.\n",
    "\n",
    "**WARNING**: If there are still pending events in the propagation engine, the propagation may results in unexpected results."
   ]
  }
 ],
 "metadata": {
  "kernelspec": {
   "display_name": "Java",
   "language": "java",
   "name": "java"
  },
  "language_info": {
   "codemirror_mode": "java",
   "file_extension": ".jshell",
   "mimetype": "text/x-java-source",
   "name": "Java",
   "pygments_lexer": "java",
   "version": "11.0.1+13-LTS"
  }
 },
 "nbformat": 4,
 "nbformat_minor": 5
}
