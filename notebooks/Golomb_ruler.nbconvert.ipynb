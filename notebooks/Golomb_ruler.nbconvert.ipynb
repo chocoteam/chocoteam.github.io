{
 "cells": [
  {
   "cell_type": "markdown",
   "id": "96a73f12",
   "metadata": {},
   "source": [
    "---\n",
    "title: \"Golomb ruler model\"\n",
    "date: 2023-06-24\n",
    "tags: [\"model\", \"search\", \"choco\"]\n",
    "math: \"true\"\n",
    "weight: 42\n",
    "\n",
    "---"
   ]
  },
  {
   "cell_type": "markdown",
   "id": "6acd1cce",
   "metadata": {},
   "source": [
    "# Golomb ruler problem\n",
    "A Golomb ruler may be defined as a set of $m$ integers $0 = a_1 < a_2 < ... < a_m$ such that the $m(m-1)/2$ differences $a_j - a_i, 1 <= i < j <= m$ are distinct. Such a ruler is said to contain m marks and is of length $a_m$."
   ]
  },
  {
   "cell_type": "markdown",
   "id": "45355298",
   "metadata": {},
   "source": [
    "Let's first get the last version of [choco-solver](https://choco-solver.org/)."
   ]
  },
  {
   "cell_type": "code",
   "execution_count": 1,
   "id": "2a90fd6a",
   "metadata": {
    "execution": {
     "iopub.execute_input": "2023-06-23T08:50:01.349500Z",
     "iopub.status.busy": "2023-06-23T08:50:01.347764Z",
     "iopub.status.idle": "2023-06-23T08:50:02.994578Z",
     "shell.execute_reply": "2023-06-23T08:50:02.993919Z"
    }
   },
   "outputs": [],
   "source": [
    "%maven org.choco-solver:choco-solver:4.10.13"
   ]
  },
  {
   "cell_type": "markdown",
   "id": "aad1b076",
   "metadata": {},
   "source": [
    "And manage imports."
   ]
  },
  {
   "cell_type": "code",
   "execution_count": 2,
   "id": "4381af83",
   "metadata": {
    "execution": {
     "iopub.execute_input": "2023-06-23T08:50:03.050198Z",
     "iopub.status.busy": "2023-06-23T08:50:03.049609Z",
     "iopub.status.idle": "2023-06-23T08:50:03.093357Z",
     "shell.execute_reply": "2023-06-23T08:50:03.092881Z"
    }
   },
   "outputs": [],
   "source": [
    "import org.chocosolver.solver.Model;\n",
    "import org.chocosolver.solver.variables.IntVar;\n",
    "\n",
    "import java.util.Arrays;\n",
    "\n",
    "import static org.chocosolver.solver.search.strategy.Search.inputOrderLBSearch;"
   ]
  },
  {
   "cell_type": "markdown",
   "id": "231df9b7",
   "metadata": {},
   "source": [
    "Now, first we declare $m$ to be the size of the ruler."
   ]
  },
  {
   "cell_type": "code",
   "execution_count": 3,
   "id": "540c9501",
   "metadata": {
    "execution": {
     "iopub.execute_input": "2023-06-23T08:50:03.149260Z",
     "iopub.status.busy": "2023-06-23T08:50:03.148417Z",
     "iopub.status.idle": "2023-06-23T08:50:03.168839Z",
     "shell.execute_reply": "2023-06-23T08:50:03.168459Z"
    }
   },
   "outputs": [],
   "source": [
    "int m = 10;"
   ]
  },
  {
   "cell_type": "markdown",
   "id": "e0a5f734",
   "metadata": {},
   "source": [
    "Then, we can start modelling the problem with choco.\n",
    "The first step is to defined a `Model` instance.\n",
    "It is required to declare and store the variables and the constraints.\n",
    "For convenience, an instance can be declared with a name."
   ]
  },
  {
   "cell_type": "code",
   "execution_count": 4,
   "id": "a78f8a49",
   "metadata": {
    "execution": {
     "iopub.execute_input": "2023-06-23T08:50:03.224565Z",
     "iopub.status.busy": "2023-06-23T08:50:03.223900Z",
     "iopub.status.idle": "2023-06-23T08:50:03.333731Z",
     "shell.execute_reply": "2023-06-23T08:50:03.333210Z"
    }
   },
   "outputs": [],
   "source": [
    "Model model = new Model(\"GolombRuler\");"
   ]
  },
  {
   "cell_type": "markdown",
   "id": "6c85faba",
   "metadata": {},
   "source": [
    "Then, we need to declare the $a$ variables. \n",
    "In choco, any variable needs to be declared with a domain, sometimes setting the bounds is enough.\n",
    "Here, $\\forall i \\in [1,m], \\; a_i = [0, 9999]$ would do the job."
   ]
  },
  {
   "cell_type": "code",
   "execution_count": 5,
   "id": "02a3b9c2",
   "metadata": {
    "execution": {
     "iopub.execute_input": "2023-06-23T08:50:03.389435Z",
     "iopub.status.busy": "2023-06-23T08:50:03.388781Z",
     "iopub.status.idle": "2023-06-23T08:50:03.429083Z",
     "shell.execute_reply": "2023-06-23T08:50:03.428470Z"
    }
   },
   "outputs": [],
   "source": [
    "IntVar[] ticks = model.intVarArray(\"a\", m, 0, 9999);"
   ]
  },
  {
   "cell_type": "markdown",
   "id": "964bd213",
   "metadata": {},
   "source": [
    "The paramaters are:\n",
    "- the prefix for setting the variables' name;\n",
    "- the number of variables to create. Here, the method returns an `IntVar[]`;\n",
    "- the lower bound and the upper bound of each variable.\n",
    "\n",
    "Then, we can fix the value of $a_1$: "
   ]
  },
  {
   "cell_type": "code",
   "execution_count": 6,
   "id": "9232a895",
   "metadata": {
    "execution": {
     "iopub.execute_input": "2023-06-23T08:50:03.483190Z",
     "iopub.status.busy": "2023-06-23T08:50:03.482232Z",
     "iopub.status.idle": "2023-06-23T08:50:03.527838Z",
     "shell.execute_reply": "2023-06-23T08:50:03.527550Z"
    }
   },
   "outputs": [],
   "source": [
    "model.arithm(ticks[0], \"=\", 0).post();"
   ]
  },
  {
   "cell_type": "markdown",
   "id": "d93b09e8",
   "metadata": {},
   "source": [
    "And all the ticks are ordered:"
   ]
  },
  {
   "cell_type": "code",
   "execution_count": 7,
   "id": "a5417e4b",
   "metadata": {
    "execution": {
     "iopub.execute_input": "2023-06-23T08:50:03.586710Z",
     "iopub.status.busy": "2023-06-23T08:50:03.582881Z",
     "iopub.status.idle": "2023-06-23T08:50:03.612273Z",
     "shell.execute_reply": "2023-06-23T08:50:03.611838Z"
    }
   },
   "outputs": [],
   "source": [
    "for (int i = 0; i < m - 1; i++) {\n",
    "    model.arithm(ticks[i + 1], \">\", ticks[i]).post();\n",
    "}"
   ]
  },
  {
   "cell_type": "markdown",
   "id": "a1e74a10",
   "metadata": {},
   "source": [
    "The variables that encode the difference between ticks are defined as:"
   ]
  },
  {
   "cell_type": "code",
   "execution_count": 8,
   "id": "cfcc4900",
   "metadata": {
    "execution": {
     "iopub.execute_input": "2023-06-23T08:50:03.667216Z",
     "iopub.status.busy": "2023-06-23T08:50:03.666611Z",
     "iopub.status.idle": "2023-06-23T08:50:03.683854Z",
     "shell.execute_reply": "2023-06-23T08:50:03.683454Z"
    }
   },
   "outputs": [],
   "source": [
    "IntVar[] diffs = model.intVarArray(\"d\", (m * m - m) / 2, 0, 9999);"
   ]
  },
  {
   "cell_type": "markdown",
   "id": "69977a2f",
   "metadata": {},
   "source": [
    "For convenience, we will also copy them to a matrix. That ease constraints declaration."
   ]
  },
  {
   "cell_type": "code",
   "execution_count": 9,
   "id": "d1fc77de",
   "metadata": {
    "execution": {
     "iopub.execute_input": "2023-06-23T08:50:03.735129Z",
     "iopub.status.busy": "2023-06-23T08:50:03.734542Z",
     "iopub.status.idle": "2023-06-23T08:50:03.751556Z",
     "shell.execute_reply": "2023-06-23T08:50:03.751086Z"
    }
   },
   "outputs": [],
   "source": [
    "IntVar[][] m_diffs = new IntVar[m][m];"
   ]
  },
  {
   "cell_type": "markdown",
   "id": "587710e8",
   "metadata": {},
   "source": [
    "Now, we can declare the required constraints: "
   ]
  },
  {
   "cell_type": "code",
   "execution_count": 10,
   "id": "f48983fc",
   "metadata": {
    "execution": {
     "iopub.execute_input": "2023-06-23T08:50:03.805184Z",
     "iopub.status.busy": "2023-06-23T08:50:03.804289Z",
     "iopub.status.idle": "2023-06-23T08:50:03.895945Z",
     "shell.execute_reply": "2023-06-23T08:50:03.895447Z"
    }
   },
   "outputs": [],
   "source": [
    "for (int k = 0, i = 0; i < m - 1; i++) {\n",
    "    for (int j = i + 1; j < m; j++, k++) {\n",
    "        // d[k] is m[j]-m[i] and must be at least sum of first j-i integers\n",
    "        model.scalar(new IntVar[]{ticks[j], ticks[i]}, new int[]{1, -1}, \"=\", diffs[k]).post();\n",
    "        model.arithm(diffs[k], \">=\", (j - i) * (j - i + 1) / 2).post();\n",
    "        model.arithm(diffs[k], \"-\", ticks[m - 1], \"<=\", -((m - 1 - j + i) * (m - j + i)) / 2).post();\n",
    "        model.arithm(diffs[k], \"<=\", ticks[m - 1], \"-\", ((m - 1 - j + i) * (m - j + i)) / 2).post();\n",
    "        m_diffs[i][j] = diffs[k];\n",
    "    }\n",
    "}\n",
    "model.allDifferent(diffs, \"BC\").post();\n",
    "\n",
    "// break symetries\n",
    "if (m > 2) {\n",
    "    model.arithm(diffs[0], \"<\", diffs[diffs.length - 1]).post();\n",
    "}"
   ]
  },
  {
   "cell_type": "markdown",
   "id": "185ef354",
   "metadata": {},
   "source": [
    "The Golomb ruler problem is defined as a Constraint Optimization Problem and thus an objective function has to be declared. The first parameter is the direction, the second is the variable to optimize:"
   ]
  },
  {
   "cell_type": "code",
   "execution_count": 11,
   "id": "1ba88eb1",
   "metadata": {
    "execution": {
     "iopub.execute_input": "2023-06-23T08:50:03.950556Z",
     "iopub.status.busy": "2023-06-23T08:50:03.949750Z",
     "iopub.status.idle": "2023-06-23T08:50:03.976089Z",
     "shell.execute_reply": "2023-06-23T08:50:03.975599Z"
    }
   },
   "outputs": [],
   "source": [
    "model.setObjective(Model.MINIMIZE, model.getVars()[m - 1]);"
   ]
  },
  {
   "cell_type": "markdown",
   "id": "2f87f9f1",
   "metadata": {},
   "source": [
    "We have declared many variables, but finding values for each $a_i$ is enough, since the propagation will update the other ones' domain. \n",
    "These variables are known to be the decision ones and a search strategy can be set on them:  "
   ]
  },
  {
   "cell_type": "code",
   "execution_count": 12,
   "id": "264b1868",
   "metadata": {
    "execution": {
     "iopub.execute_input": "2023-06-23T08:50:04.032846Z",
     "iopub.status.busy": "2023-06-23T08:50:04.031929Z",
     "iopub.status.idle": "2023-06-23T08:50:04.068828Z",
     "shell.execute_reply": "2023-06-23T08:50:04.068391Z"
    }
   },
   "outputs": [],
   "source": [
    "model.getSolver().setSearch(inputOrderLBSearch(ticks));"
   ]
  },
  {
   "cell_type": "markdown",
   "id": "aba34817",
   "metadata": {},
   "source": [
    "Everything is ready for the solving step to be executed.\n",
    "We choose to display intermediate solutions by using a `while-loop`."
   ]
  },
  {
   "cell_type": "code",
   "execution_count": 13,
   "id": "dc1bbae5",
   "metadata": {
    "execution": {
     "iopub.execute_input": "2023-06-23T08:50:04.123669Z",
     "iopub.status.busy": "2023-06-23T08:50:04.122920Z",
     "iopub.status.idle": "2023-06-23T08:50:06.211053Z",
     "shell.execute_reply": "2023-06-23T08:50:06.210743Z"
    }
   },
   "outputs": [
    {
     "name": "stdout",
     "output_type": "stream",
     "text": [
      "\n",
      "Solution #1:\n",
      "a[0] = 0, a[1] = 1, a[2] = 3, a[3] = 7, a[4] = 12, a[5] = 20, a[6] = 30, a[7] = 44, a[8] = 65, a[9] = 80, \n",
      "Solution #2:\n",
      "a[0] = 0, a[1] = 1, a[2] = 3, a[3] = 7, a[4] = 12, a[5] = 20, a[6] = 34, a[7] = 49, a[8] = 59, a[9] = 75, \n",
      "Solution #3:\n",
      "a[0] = 0, a[1] = 1, a[2] = 3, a[3] = 7, a[4] = 12, a[5] = 22, a[6] = 35, a[7] = 49, a[8] = 65, a[9] = 73, \n",
      "Solution #4:\n",
      "a[0] = 0, a[1] = 1, a[2] = 3, a[3] = 7, a[4] = 12, a[5] = 26, a[6] = 41, a[7] = 54, a[8] = 62, a[9] = 72, \n",
      "Solution #5:\n",
      "a[0] = 0, a[1] = 1, a[2] = 3, a[3] = 7, a[4] = 15, a[5] = 24, a[6] = 34, a[7] = 54, a[8] = 59, a[9] = 70, \n",
      "Solution #6:\n",
      "a[0] = 0, a[1] = 1, a[2] = 3, a[3] = 7, a[4] = 15, a[5] = 31, a[6] = 36, a[7] = 49, a[8] = 58, a[9] = 68, \n",
      "Solution #7:\n",
      "a[0] = 0, a[1] = 1, a[2] = 3, a[3] = 7, a[4] = 17, a[5] = 22, a[6] = 35, a[7] = 46, a[8] = 58, a[9] = 66, \n",
      "Solution #8:\n",
      "a[0] = 0, a[1] = 1, a[2] = 3, a[3] = 7, a[4] = 18, a[5] = 30, a[6] = 38, a[7] = 43, a[8] = 52, a[9] = 62, \n",
      "Solution #9:\n",
      "a[0] = 0, a[1] = 1, a[2] = 3, a[3] = 11, a[4] = 17, a[5] = 29, a[6] = 36, a[7] = 51, a[8] = 56, a[9] = 60, \n",
      "Solution #10:\n",
      "a[0] = 0, a[1] = 1, a[2] = 6, a[3] = 10, a[4] = 23, a[5] = 26, a[6] = 34, a[7] = 41, a[8] = 53, a[9] = 55, "
     ]
    }
   ],
   "source": [
    "while (model.getSolver().solve()) {\n",
    "    System.out.printf(\"\\nSolution #%d:\\n\", model.getSolver().getSolutionCount());\n",
    "    Arrays.stream(ticks).forEach(t -> System.out.printf(\"%s = %d, \", t.getName(), t.getValue()));\n",
    "\n",
    "}\n",
    "model.getSolver().reset(); // to run the code twice"
   ]
  }
 ],
 "metadata": {
  "kernelspec": {
   "display_name": "Java",
   "language": "java",
   "name": "java"
  },
  "language_info": {
   "codemirror_mode": "java",
   "file_extension": ".jshell",
   "mimetype": "text/x-java-source",
   "name": "Java",
   "pygments_lexer": "java",
   "version": "11.0.1+13-LTS"
  }
 },
 "nbformat": 4,
 "nbformat_minor": 5
}
